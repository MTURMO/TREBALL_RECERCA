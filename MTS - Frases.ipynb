{
 "cells": [
  {
   "cell_type": "code",
   "execution_count": 56,
   "metadata": {},
   "outputs": [
    {
     "name": "stdout",
     "output_type": "stream",
     "text": [
      "['Em', 'dic', 'Marc', 'Turmo', 'Sabater', 'i', 'tinc', '17', 'anys', 'perque', 'vaig', 'neixer', 'el', '13', 'de', 'gener', 'del', '2002']\n"
     ]
    }
   ],
   "source": [
    "from numpy import array\n",
    "from openpyxl import Workbook, load_workbook\n",
    "from openpyxl.compat import range\n",
    "import numpy as np\n",
    "ntxt = 5\n",
    "frase = 'Em dic Marc Turmo Sabater i tinc 17 anys perque vaig neixer el 13 de gener del 2002'\n",
    "Afrase = frase.split()\n",
    "print Afrase"
   ]
  },
  {
   "cell_type": "code",
   "execution_count": 86,
   "metadata": {},
   "outputs": [
    {
     "name": "stdout",
     "output_type": "stream",
     "text": [
      "hola em dic marc turmo i magrada el handbol perque el handbol es molt divertit\n",
      "1\n",
      "tinc molta gana perque macabo de despertar\n",
      "2\n",
      "he dormit mes duna hora ja que ahir vaig jugar a handbol\n",
      "3\n",
      "soc el marc turmo i estic fent tr\n",
      "4\n",
      "el meu tr va de la intelligencia artificial\n",
      "5\n",
      "['hola em dic marc turmo i magrada el handbol perque el handbol es molt divertit'\n",
      " 'tinc molta gana perque macabo de despertar'\n",
      " 'he dormit mes duna hora ja que ahir vaig jugar a handbol'\n",
      " 'soc el marc turmo i estic fent tr'\n",
      " 'el meu tr va de la intelligencia artificial']\n"
     ]
    }
   ],
   "source": [
    "wb = load_workbook(filename = 'C:\\Users\\WORK\\@TREBALL_RECERCA\\prova.xlsx')\n",
    "ws = wb.active\n",
    "sheet_ranges = wb['andreu']\n",
    "text = np.empty(ntxt, dtype=\"a1000\")\n",
    "for fila in range(1, ntxt+1):\n",
    "    frase = ws.cell(fila, column=1).value\n",
    "    frase = frase.lower()\n",
    "    print frase\n",
    "    print fila\n",
    "    text [fila-1] = frase\n",
    "print text"
   ]
  },
  {
   "cell_type": "code",
   "execution_count": 58,
   "metadata": {},
   "outputs": [],
   "source": [
    "def word_count(str):\n",
    "    counts = dict()\n",
    "    words = str.split()\n",
    "\n",
    "    for word in words:\n",
    "        if word in counts:\n",
    "            counts[word] += 1\n",
    "        else:\n",
    "            counts[word] = 1\n",
    "\n",
    "    return counts"
   ]
  },
  {
   "cell_type": "code",
   "execution_count": 87,
   "metadata": {},
   "outputs": [
    {
     "name": "stdout",
     "output_type": "stream",
     "text": [
      "[{'em': 1, 'el': 2, 'magrada': 1, 'perque': 1, 'marc': 1, 'turmo': 1, 'divertit': 1, 'molt': 1, 'dic': 1, 'i': 1, 'es': 1, 'handbol': 2, 'hola': 1}, {'despertar': 1, 'perque': 1, 'de': 1, 'gana': 1, 'tinc': 1, 'macabo': 1, 'molta': 1}, {'hora': 1, 'a': 1, 'vaig': 1, 'dormit': 1, 'duna': 1, 'ahir': 1, 'que': 1, 'jugar': 1, 'mes': 1, 'handbol': 1, 'ja': 1, 'he': 1}, {'el': 1, 'soc': 1, 'fent': 1, 'marc': 1, 'turmo': 1, 'tr': 1, 'i': 1, 'estic': 1}, {'el': 1, 'la': 1, 'de': 1, 'tr': 1, 'artificial': 1, 'meu': 1, 'intelligencia': 1, 'va': 1}]\n"
     ]
    }
   ],
   "source": [
    "dicttext = [dict() for x in range(ntxt)]\n",
    "for fila in range(0, ntxt):\n",
    "    dicttext[fila] = word_count(text[fila])\n",
    "\n",
    "print dicttext"
   ]
  },
  {
   "cell_type": "code",
   "execution_count": 88,
   "metadata": {},
   "outputs": [
    {
     "name": "stdout",
     "output_type": "stream",
     "text": [
      "{'em': 1, 'el': 1, 'soc': 1, 'de': 1, 'magrada': 1, 'dormit': 1, 'va': 1, 'turmo': 1, 'hora': 1, 'despertar': 1, 'molt': 1, 'artificial': 1, 'meu': 1, 'gana': 1, 'que': 1, 'macabo': 1, 'mes': 1, 'vaig': 1, 'handbol': 1, 'ja': 1, 'hola': 1, 'he': 1, 'a': 1, 'estic': 1, 'perque': 1, 'marc': 1, 'i': 1, 'la': 1, 'divertit': 1, 'tr': 1, 'ahir': 1, 'dic': 1, 'fent': 1, 'jugar': 1, 'tinc': 1, 'es': 1, 'intelligencia': 1, 'molta': 1, 'duna': 1}\n"
     ]
    }
   ],
   "source": [
    "diccionaritotal = dict()\n",
    "for fila in range(0, ntxt):\n",
    "    diccionaritotal.update(dicttext[fila])   \n",
    "print diccionaritotal"
   ]
  },
  {
   "cell_type": "code",
   "execution_count": 89,
   "metadata": {},
   "outputs": [
    {
     "name": "stdout",
     "output_type": "stream",
     "text": [
      "['a', 'ahir', 'artificial', 'de', 'despertar', 'dic', 'divertit', 'dormit', 'duna', 'el', 'em', 'es', 'estic', 'fent', 'gana', 'handbol', 'he', 'hola', 'hora', 'i', 'intelligencia', 'ja', 'jugar', 'la', 'macabo', 'magrada', 'marc', 'mes', 'meu', 'molt', 'molta', 'perque', 'que', 'soc', 'tinc', 'tr', 'turmo', 'va', 'vaig']\n",
      "[list(['dic', 'divertit', 'el', 'em', 'es', 'handbol', 'hola', 'i', 'magrada', 'marc', 'molt', 'perque', 'turmo'])\n",
      " list(['de', 'despertar', 'gana', 'macabo', 'molta', 'perque', 'tinc'])\n",
      " list(['a', 'ahir', 'dormit', 'duna', 'handbol', 'he', 'hora', 'ja', 'jugar', 'mes', 'que', 'vaig'])\n",
      " list(['el', 'estic', 'fent', 'i', 'marc', 'soc', 'tr', 'turmo'])\n",
      " list(['artificial', 'de', 'el', 'intelligencia', 'la', 'meu', 'tr', 'va'])]\n"
     ]
    }
   ],
   "source": [
    "llistatotal = list(diccionaritotal)\n",
    "llistatxt = np.empty((ntxt),dtype=list)\n",
    "\n",
    "for fila in range(0, ntxt):\n",
    "    llistatxt[fila] = list(dicttext[fila])\n",
    "    llistatxt[fila].sort()\n",
    "    \n",
    "llistatotal.sort()\n",
    "print llistatotal\n",
    "print llistatxt\n",
    "\n",
    "\n",
    "\n",
    "\n"
   ]
  },
  {
   "cell_type": "code",
   "execution_count": 90,
   "metadata": {},
   "outputs": [
    {
     "name": "stdout",
     "output_type": "stream",
     "text": [
      "['a' 'ahir' 'artificial' 'de' 'despertar' 'dic' 'divertit' 'dormit' 'duna'\n",
      " 'el' 'em' 'es' 'estic' 'fent' 'gana' 'handbol' 'he' 'hola' 'hora' 'i'\n",
      " 'intelligencia' 'ja' 'jugar' 'la' 'macabo' 'magrada' 'marc' 'mes' 'meu'\n",
      " 'molt' 'molta' 'perque' 'que' 'soc' 'tinc' 'tr' 'turmo' 'va' 'vaig']\n"
     ]
    },
    {
     "data": {
      "text/plain": [
       "39"
      ]
     },
     "execution_count": 90,
     "metadata": {},
     "output_type": "execute_result"
    }
   ],
   "source": [
    "arrayllistatotal = np.asarray(llistatotal) \n",
    "print arrayllistatotal\n",
    "len(arrayllistatotal)"
   ]
  },
  {
   "cell_type": "code",
   "execution_count": 83,
   "metadata": {},
   "outputs": [
    {
     "name": "stdout",
     "output_type": "stream",
     "text": [
      "39\n",
      "[[0 0 0 0 0 1 1 0 0 1 1 1 0 0 0 1 0 1 0 1 0 0 0 0 0 1 1 0 0 1 0 1 0 0 0 0\n",
      "  1 0 0]\n",
      " [0 0 0 1 1 0 0 0 0 0 0 0 0 0 1 0 0 0 0 0 0 0 0 0 1 0 0 0 0 0 1 1 0 0 1 0\n",
      "  0 0 0]\n",
      " [1 1 0 0 0 0 0 1 1 0 0 0 0 0 0 1 1 0 1 0 0 1 1 0 0 0 0 1 0 0 0 0 1 0 0 0\n",
      "  0 0 1]\n",
      " [0 0 0 0 0 0 0 0 0 1 0 0 1 1 0 0 0 0 0 1 0 0 0 0 0 0 1 0 0 0 0 0 0 1 0 1\n",
      "  1 0 0]\n",
      " [0 0 1 1 0 0 0 0 0 1 0 0 0 0 0 0 0 0 0 0 1 0 0 1 0 0 0 0 1 0 0 0 0 0 0 1\n",
      "  0 1 0]]\n"
     ]
    }
   ],
   "source": [
    "longitud = len(diccionaritotal)\n",
    "print longitud\n",
    "token = np.zeros([ntxt, longitud], dtype = int)\n",
    "\n",
    "for fila in range(0, ntxt):\n",
    "    for word in range(0, longitud):\n",
    "        if arrayllistatotal[word] in llistatxt[fila]: \n",
    "            token[fila, word] = 1\n",
    "print token"
   ]
  }
 ],
 "metadata": {
  "kernelspec": {
   "display_name": "Python 2",
   "language": "python",
   "name": "python2"
  },
  "language_info": {
   "codemirror_mode": {
    "name": "ipython",
    "version": 2
   },
   "file_extension": ".py",
   "mimetype": "text/x-python",
   "name": "python",
   "nbconvert_exporter": "python",
   "pygments_lexer": "ipython2",
   "version": "2.7.15"
  }
 },
 "nbformat": 4,
 "nbformat_minor": 2
}
